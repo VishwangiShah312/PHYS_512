{
 "cells": [
  {
   "cell_type": "markdown",
   "id": "43cee2be",
   "metadata": {},
   "source": [
    "## Q1"
   ]
  },
  {
   "cell_type": "markdown",
   "id": "11868263",
   "metadata": {},
   "source": [
    "Defining the integrator with prototype to take one step, to integrate $ \\frac{dy}{dx} = \\frac{y}{1+x^2} $"
   ]
  },
  {
   "cell_type": "code",
   "execution_count": 74,
   "id": "19ff3951",
   "metadata": {},
   "outputs": [],
   "source": [
    "import numpy as np\n",
    "from matplotlib import pyplot as plt\n",
    "\n",
    "#definig dy/dx\n",
    "def f(x,y):\n",
    "    dydx=y/(1+x**2)\n",
    "    return dydx\n",
    "\n",
    "#defining the rk4 integrator\n",
    "def rk4_step(fun,x,y,h):\n",
    "    k1=fun(x,y)*h\n",
    "    k2=h*fun(x+h/2,y+k1/2)\n",
    "    k3=h*fun(x+h/2,y+k2/2)\n",
    "    k4=h*fun(x+h,y+k3)\n",
    "    dy=(k1+2*k2+2*k3+k4)/6\n",
    "    return y+dy"
   ]
  },
  {
   "cell_type": "markdown",
   "id": "fdc09c25",
   "metadata": {},
   "source": [
    "Integrating from x = -20 yo x = 20 using 200 steps. "
   ]
  },
  {
   "cell_type": "code",
   "execution_count": 75,
   "id": "c827a3b0",
   "metadata": {},
   "outputs": [],
   "source": [
    "y0=1  #The initial value\n",
    "x=np.linspace(-20,20,201) #x with 200 steps = 201 points\n",
    "h=np.median(np.diff(x))\n",
    "y=np.zeros(len(x))\n",
    "y[0]=y0\n",
    "for i in range(len(x)-1):\n",
    "    y[i+1]=rk4_step(f,x[i],y[i],h)\n",
    "truth = np.exp(np.arctan(x)) #the true value of the function at the x points (without the constant scaling)"
   ]
  },
  {
   "cell_type": "markdown",
   "id": "1e78e1b6",
   "metadata": {},
   "source": [
    "The true integrated solution will be of the from $y = cexp(arctan(x))$. I find the value of c and plot the true and obtained functions. As can be seen, the true and obtained functions agree to an accuracy of $10^{-5}$"
   ]
  },
  {
   "cell_type": "code",
   "execution_count": 76,
   "id": "c9991f13",
   "metadata": {},
   "outputs": [
    {
     "data": {
      "text/plain": [
       "Text(0, 0.5, 'y')"
      ]
     },
     "execution_count": 76,
     "metadata": {},
     "output_type": "execute_result"
    },
    {
     "data": {
      "image/png": "[encoded data removed]",
      "text/plain": [
       "<Figure size 432x288 with 1 Axes>"
      ]
     },
     "metadata": {
      "needs_background": "light"
     },
     "output_type": "display_data"
    }
   ],
   "source": [
    "scale = truth[0]/y[0] #get the constant scaling c0 between the true value and our integrated function\n",
    "plt.plot(x,y*scale,label=\"rk4\") #multiply the constant scaling to our integrated y \n",
    "plt.plot(x,truth,label=\"true\")\n",
    "plt.legend()\n",
    "plt.xlabel(\"x\")\n",
    "plt.ylabel(\"y\")"
   ]
  },
  {
   "cell_type": "code",
   "execution_count": 77,
   "id": "b033228e",
   "metadata": {},
   "outputs": [
    {
     "data": {
      "text/plain": [
       "Text(0, 0.5, 'error')"
      ]
     },
     "execution_count": 77,
     "metadata": {},
     "output_type": "execute_result"
    },
    {
     "data": {
      "image/png": "[encoded data removed]",
      "text/plain": [
       "<Figure size 432x288 with 1 Axes>"
      ]
     },
     "metadata": {
      "needs_background": "light"
     },
     "output_type": "display_data"
    }
   ],
   "source": [
    "#getting the error our integrated y value \n",
    "error = y*scale - truth\n",
    "plt.plot(x, error)\n",
    "plt.xlabel(\"x\")\n",
    "plt.ylabel(\"error\")"
   ]
  },
  {
   "cell_type": "markdown",
   "id": "d373b615",
   "metadata": {},
   "source": [
    "Function that takes a step of length h, compares that to two steps of length h/2, and uses\n",
    "them to cancel out the leading-order error term from RK4. For a step of size h, we can say $y(x+h) = y1 + h^5 + O(h^6)$ and for a step of size h/2, $y(x+h) = y2 + 2(h/2)^5 + O(h^6)$, where y1 and y2 are the values returned by the function and y(x+h) is the true value. We can see that using these two equations, we can write $y(x+h) = y2 + (y2-y1)/15 + O(h^6)$. Thus, the error reduced from $O(h^5)$ to $O(h^6)$. This function uses 4 (for step size h) + 3 (for step size h/2 with the function at initial point already evaluated) + 4 = 11 function calls per step size"
   ]
  },
  {
   "cell_type": "code",
   "execution_count": 78,
   "id": "40581824",
   "metadata": {},
   "outputs": [],
   "source": [
    "#Function to take calculate y(x+h) with a step size of h (y1), and y(x+h) with two steps of size h/2 (y2) and use \n",
    "# y1 and y2 to calculate y(x+h) to O(h^5) accuracy. \n",
    "def rk4_stepd(fun,x,y,h):\n",
    "    k1=fun(x,y)*h\n",
    "    k2=h*fun(x+h/2,y+k1/2)\n",
    "    k3=h*fun(x+h/2,y+k2/2)\n",
    "    k4=h*fun(x+h,y+k3)\n",
    "    dy=(k1+2*k2+2*k3+k4)/6\n",
    "    y1 = y + dy\n",
    "    k1_half1 = k1/2\n",
    "    k2_half1=(h/2)*fun(x+h/4,y+k1_half1/2)\n",
    "    k3_half1=(h/2)*fun(x+h/4,y+k2_half1/2)\n",
    "    k4_half1=(h/2)*fun(x+h/2,y+k3_half1)\n",
    "    dy_half1 = (k1_half1+2*k2_half1+2*k3_half1+k4_half1)/6\n",
    "    y2_half1 = y + dy_half1\n",
    "    x2 = x + h/2\n",
    "    k1_half2 = fun(x2,y2_half1)*h/2\n",
    "    k2_half2 = (h/2)*fun(x2+h/4,y2_half1+k1_half2/2)\n",
    "    k3_half2 = (h/2)*fun(x2+h/4,y2_half1+k2_half2/2)\n",
    "    k4_half2=(h/2)*fun(x2+h/2,y2_half1+k3_half2)\n",
    "    dy_half2 = (k1_half2+2*k2_half2+2*k3_half2+k4_half2)/6\n",
    "    y2 = y2_half1 + dy_half2\n",
    "    delta = y2 - y1\n",
    "    print(\"Difference between 2 h/2 steps and 1 h step is {}\".format(delta))\n",
    "    return y2 + delta/15"
   ]
  },
  {
   "cell_type": "markdown",
   "id": "e82b4e58",
   "metadata": {},
   "source": [
    "The intial function which has 200 steps uses $200*4$ function calls. For the new function to use the same number of function calls, the number of steps should be $200*4/11$. "
   ]
  },
  {
   "cell_type": "code",
   "execution_count": 79,
   "id": "1174f262",
   "metadata": {},
   "outputs": [
    {
     "name": "stdout",
     "output_type": "stream",
     "text": [
      "Difference between 2 h/2 steps and 1 h step is -3.452504948597834e-11\n",
      "Difference between 2 h/2 steps and 1 h step is -4.0998093808752856e-11\n",
      "Difference between 2 h/2 steps and 1 h step is -4.8930859364304524e-11\n",
      "Difference between 2 h/2 steps and 1 h step is -5.871081398822753e-11\n",
      "Difference between 2 h/2 steps and 1 h step is -7.084555164738049e-11\n",
      "Difference between 2 h/2 steps and 1 h step is -8.600498091482223e-11\n",
      "Difference between 2 h/2 steps and 1 h step is -1.0508127701314152e-10\n",
      "Difference between 2 h/2 steps and 1 h step is -1.2927170445209413e-10\n",
      "Difference between 2 h/2 steps and 1 h step is -1.6020273996275591e-10\n",
      "Difference between 2 h/2 steps and 1 h step is -2.0010326728936434e-10\n",
      "Difference between 2 h/2 steps and 1 h step is -2.520663677785251e-10\n",
      "Difference between 2 h/2 steps and 1 h step is -3.2043412367954716e-10\n",
      "Difference between 2 h/2 steps and 1 h step is -4.1138425999065475e-10\n",
      "Difference between 2 h/2 steps and 1 h step is -5.338305353319583e-10\n",
      "Difference between 2 h/2 steps and 1 h step is -7.008338354097532e-10\n",
      "Difference between 2 h/2 steps and 1 h step is -9.3185148486441e-10\n",
      "Difference between 2 h/2 steps and 1 h step is -1.2563992068947982e-09\n",
      "Difference between 2 h/2 steps and 1 h step is -1.720148468109528e-09\n",
      "Difference between 2 h/2 steps and 1 h step is -2.3953117267438984e-09\n",
      "Difference between 2 h/2 steps and 1 h step is -3.398834103052195e-09\n",
      "Difference between 2 h/2 steps and 1 h step is -4.925158947344244e-09\n",
      "Difference between 2 h/2 steps and 1 h step is -7.307198401917958e-09\n",
      "Difference between 2 h/2 steps and 1 h step is -1.113384806572526e-08\n",
      "Difference between 2 h/2 steps and 1 h step is -1.7485574321796093e-08\n",
      "Difference between 2 h/2 steps and 1 h step is -2.8427736165070883e-08\n",
      "Difference between 2 h/2 steps and 1 h step is -4.80947721648306e-08\n",
      "Difference between 2 h/2 steps and 1 h step is -8.520319161320344e-08\n",
      "Difference between 2 h/2 steps and 1 h step is -1.5922019391823028e-07\n",
      "Difference between 2 h/2 steps and 1 h step is -3.1641510656044147e-07\n",
      "Difference between 2 h/2 steps and 1 h step is -6.736981299493294e-07\n",
      "Difference between 2 h/2 steps and 1 h step is -1.5381355045196443e-06\n",
      "Difference between 2 h/2 steps and 1 h step is -3.652683597143991e-06\n",
      "Difference between 2 h/2 steps and 1 h step is -7.28581464781719e-06\n",
      "Difference between 2 h/2 steps and 1 h step is 1.4526222559263502e-05\n",
      "Difference between 2 h/2 steps and 1 h step is 0.00041331432989544226\n",
      "Difference between 2 h/2 steps and 1 h step is 0.0009236674147672375\n",
      "Difference between 2 h/2 steps and 1 h step is 0.0015337190319026917\n",
      "Difference between 2 h/2 steps and 1 h step is 0.0015865045665446331\n",
      "Difference between 2 h/2 steps and 1 h step is 9.40958344344267e-05\n",
      "Difference between 2 h/2 steps and 1 h step is -6.434432646962307e-05\n",
      "Difference between 2 h/2 steps and 1 h step is -3.919877872604616e-05\n",
      "Difference between 2 h/2 steps and 1 h step is -1.8824356292412858e-05\n",
      "Difference between 2 h/2 steps and 1 h step is -9.056412533681168e-06\n",
      "Difference between 2 h/2 steps and 1 h step is -4.5625801057269655e-06\n",
      "Difference between 2 h/2 steps and 1 h step is -2.4239921323498947e-06\n",
      "Difference between 2 h/2 steps and 1 h step is -1.3544400268017398e-06\n",
      "Difference between 2 h/2 steps and 1 h step is -7.919313489423985e-07\n",
      "Difference between 2 h/2 steps and 1 h step is -4.819640402331515e-07\n",
      "Difference between 2 h/2 steps and 1 h step is -3.038373463937205e-07\n",
      "Difference between 2 h/2 steps and 1 h step is -1.9757656133378987e-07\n",
      "Difference between 2 h/2 steps and 1 h step is -1.320464946275024e-07\n",
      "Difference between 2 h/2 steps and 1 h step is -9.042236825962391e-08\n",
      "Difference between 2 h/2 steps and 1 h step is -6.327606527634089e-08\n",
      "Difference between 2 h/2 steps and 1 h step is -4.514811280387221e-08\n",
      "Difference between 2 h/2 steps and 1 h step is -3.2782008219101044e-08\n",
      "Difference between 2 h/2 steps and 1 h step is -2.4182515545589922e-08\n",
      "Difference between 2 h/2 steps and 1 h step is -1.809702254718104e-08\n",
      "Difference between 2 h/2 steps and 1 h step is -1.372154301293449e-08\n",
      "Difference between 2 h/2 steps and 1 h step is -1.0529472405096385e-08\n",
      "Difference between 2 h/2 steps and 1 h step is -8.16946865711543e-09\n",
      "Difference between 2 h/2 steps and 1 h step is -6.403077179584216e-09\n",
      "Difference between 2 h/2 steps and 1 h step is -5.065906805157283e-09\n",
      "Difference between 2 h/2 steps and 1 h step is -4.0429810610476125e-09\n",
      "Difference between 2 h/2 steps and 1 h step is -3.2527829318951262e-09\n",
      "Difference between 2 h/2 steps and 1 h step is -2.636802776123659e-09\n",
      "Difference between 2 h/2 steps and 1 h step is -2.1525501381347567e-09\n",
      "Difference between 2 h/2 steps and 1 h step is -1.7688250864011934e-09\n",
      "Difference between 2 h/2 steps and 1 h step is -1.4625030075876566e-09\n",
      "Difference between 2 h/2 steps and 1 h step is -1.2162537643689575e-09\n",
      "Difference between 2 h/2 steps and 1 h step is -1.017006923120789e-09\n",
      "Difference between 2 h/2 steps and 1 h step is -8.547829111194005e-10\n",
      "Difference between 2 h/2 steps and 1 h step is -7.219327358143346e-10\n",
      "fun count = 792\n"
     ]
    }
   ],
   "source": [
    "y0=1\n",
    "steps = int(np.floor(200*4/11))\n",
    "x2=np.linspace(-20,20,steps+1)\n",
    "h2=np.median(np.diff(x2))\n",
    "y2=np.zeros(len(x2))\n",
    "y2[0]=y0\n",
    "for i in range(len(x2)-1):\n",
    "    y2[i+1]=rk4_stepd(f,x2[i],y2[i],h2)\n",
    "truth2 = np.exp(np.arctan(x2))\n",
    "print(\"fun count = {}\".format(steps*11))"
   ]
  },
  {
   "cell_type": "code",
   "execution_count": 80,
   "id": "a2bbbd05",
   "metadata": {},
   "outputs": [
    {
     "data": {
      "text/plain": [
       "Text(0, 0.5, 'y')"
      ]
     },
     "execution_count": 80,
     "metadata": {},
     "output_type": "execute_result"
    },
    {
     "data": {
      "image/png": "[encoded data removed]",
      "text/plain": [
       "<Figure size 432x288 with 1 Axes>"
      ]
     },
     "metadata": {
      "needs_background": "light"
     },
     "output_type": "display_data"
    }
   ],
   "source": [
    "scale2 = truth2[0]/y2[0] #get the constant scaling c0 between the true value and our integrated function\n",
    "plt.plot(x2,y2*scale2,label=\"rk4\")\n",
    "plt.plot(x2,truth2,label=\"true\")\n",
    "plt.legend()\n",
    "plt.xlabel(\"x\")\n",
    "plt.ylabel(\"y\")"
   ]
  },
  {
   "cell_type": "markdown",
   "id": "3bb4be63",
   "metadata": {},
   "source": [
    "As can be seen, the new function is accurate to $O(10^{-6})$, that is more accurate than the initial function even with less number of steps."
   ]
  },
  {
   "cell_type": "code",
   "execution_count": 81,
   "id": "ee5b4f84",
   "metadata": {},
   "outputs": [
    {
     "data": {
      "text/plain": [
       "Text(0, 0.5, 'error')"
      ]
     },
     "execution_count": 81,
     "metadata": {},
     "output_type": "execute_result"
    },
    {
     "data": {
      "image/png": "[encoded data removed]",
      "text/plain": [
       "<Figure size 432x288 with 1 Axes>"
      ]
     },
     "metadata": {
      "needs_background": "light"
     },
     "output_type": "display_data"
    }
   ],
   "source": [
    "#getting the error our integrated y value \n",
    "error2 = y2*scale2 - truth2\n",
    "plt.plot(x2, error2)\n",
    "plt.xlabel(\"x\")\n",
    "plt.ylabel(\"error\")"
   ]
  },
  {
   "cell_type": "markdown",
   "id": "fd2a0eeb",
   "metadata": {},
   "source": [
    "## Q2"
   ]
  },
  {
   "cell_type": "code",
   "execution_count": 82,
   "id": "7208d554",
   "metadata": {},
   "outputs": [],
   "source": [
    "import numpy as np\n",
    "from scipy import integrate\n",
    "import time"
   ]
  },
  {
   "cell_type": "markdown",
   "id": "d7e9adad",
   "metadata": {},
   "source": [
    "## a)"
   ]
  },
  {
   "cell_type": "markdown",
   "id": "6ab78b36",
   "metadata": {},
   "source": [
    "Setting up the problem taking 164.3 microseconds as 1 time step.  I calculated the lifetime of each element in units of this timestep. "
   ]
  },
  {
   "cell_type": "code",
   "execution_count": 83,
   "id": "c7214a61",
   "metadata": {},
   "outputs": [],
   "source": [
    "#Taking 164.3 us as 1 time step\n",
    "def fun(x,y):\n",
    "    timesteps_perday = 24*60*60/(164.3*10**-6)\n",
    "    timestep_permin = 60/(164.3*10**-6)\n",
    "    lifetime = np.zeros(14)\n",
    "    lifetime[0] = 4.468*10**9*365*timesteps_perday\n",
    "    lifetime[1] = 24.10*timesteps_perday\n",
    "    lifetime[2] = 6.7*60*timestep_permin\n",
    "    lifetime[3] = 245500*365*timesteps_perday\n",
    "    lifetime[4] = 75380*365*timesteps_perday\n",
    "    lifetime[5] = 1600*365*timesteps_perday\n",
    "    lifetime[6] = 3.8235*timesteps_perday\n",
    "    lifetime[7] = 3.10*timestep_permin\n",
    "    lifetime[8] = 26.8*timestep_permin\n",
    "    lifetime[9] = 19.9*timestep_permin\n",
    "    lifetime[10] = 1\n",
    "    lifetime[11] = 22.3*365*timesteps_perday\n",
    "    lifetime[12] = 5.015*365*timesteps_perday\n",
    "    lifetime[13] = 138.376*timesteps_perday\n",
    "    dU238dx = -y[0]/lifetime[0]\n",
    "    dTh234dx = y[0]/lifetime[0] - y[1]/lifetime[1]\n",
    "    dPa234dx = y[1]/lifetime[1] - y[2]/lifetime[2]\n",
    "    dU234dx = y[2]/lifetime[2] - y[3]/lifetime[3]\n",
    "    dTh230dx = y[3]/lifetime[3] - y[4]/lifetime[4]\n",
    "    dRa226dx = y[4]/lifetime[4] - y[5]/lifetime[5]\n",
    "    dRn222dx = y[5]/lifetime[5] - y[6]/lifetime[6]\n",
    "    dPo218dx = y[6]/lifetime[6] - y[7]/lifetime[7]\n",
    "    dPb214dx = y[7]/lifetime[7] - y[8]/lifetime[8]\n",
    "    dBi214dx = y[8]/lifetime[8] - y[9]/lifetime[9]\n",
    "    dPo214dx = y[9]/lifetime[9] - y[10]/lifetime[10]\n",
    "    dPb210dx = y[10]/lifetime[10] - y[11]/lifetime[11]\n",
    "    dBi210dx = y[11]/lifetime[11] - y[12]/lifetime[12]\n",
    "    dPo210dx = y[12]/lifetime[12] - y[13]/lifetime[13]\n",
    "    dPb206dx = y[13]/lifetime[13]\n",
    "    dydx=[dU238dx, dTh234dx, dPa234dx, dU234dx, dTh230dx, dRa226dx, dRn222dx, dPo218dx, dPb214dx, dBi214dx, \\\n",
    "          dPo214dx, dPb210dx, dBi210dx, dPo210dx, dPb206dx]\n",
    "    return dydx"
   ]
  },
  {
   "cell_type": "markdown",
   "id": "1d5a7c44",
   "metadata": {},
   "source": [
    "I use the Radua method in the solve_ivp function as this is a stiff problem."
   ]
  },
  {
   "cell_type": "code",
   "execution_count": 84,
   "id": "f1ee38af",
   "metadata": {},
   "outputs": [
    {
     "name": "stdout",
     "output_type": "stream",
     "text": [
      "took  233  evaluations and  0.09059739112854004  seconds to solve implicitly\n"
     ]
    }
   ],
   "source": [
    "y0=np.asarray([1, 0, 0, 0, 0, 0, 0, 0, 0, 0, 0, 0, 0, 0, 0]) \n",
    "x0=0 \n",
    "x1=10**21\n",
    "t1=time.time();\n",
    "ans_stiff=integrate.solve_ivp(fun,[x0,x1], y0, method='Radau');\n",
    "t2=time.time();\n",
    "print('took ',ans_stiff.nfev,' evaluations and ',t2-t1,' seconds to solve implicitly')"
   ]
  },
  {
   "cell_type": "markdown",
   "id": "0c0a4221",
   "metadata": {},
   "source": [
    "## b)"
   ]
  },
  {
   "cell_type": "markdown",
   "id": "e7b23908",
   "metadata": {},
   "source": [
    "The plot makes sense analytically as the half life of U238 is approximately $10^{21}$ time steps. So, it takes a while for it to start decaying, till then the ratio is 0. But once it starts decaying, the lifetime of all others elements is much smaller, so we can say that U238 instantly decays to Pb206. So, as time approaches $10^{21}$, the ratio shoots up. "
   ]
  },
  {
   "cell_type": "code",
   "execution_count": 85,
   "id": "7e91b671",
   "metadata": {},
   "outputs": [
    {
     "data": {
      "text/plain": [
       "Text(0, 0.5, 'Ratio of Pb206 to U238')"
      ]
     },
     "execution_count": 85,
     "metadata": {},
     "output_type": "execute_result"
    },
    {
     "data": {
      "image/png": "[encoded data removed]",
      "text/plain": [
       "<Figure size 432x288 with 1 Axes>"
      ]
     },
     "metadata": {
      "needs_background": "light"
     },
     "output_type": "display_data"
    }
   ],
   "source": [
    "pb206 = ans_stiff.y[14]\n",
    "u238 = ans_stiff.y[0]\n",
    "t = ans_stiff.t\n",
    "plt.plot(t, pb206/u238)\n",
    "plt.xscale(\"log\")\n",
    "plt.xlabel(\"Time in units of 164.3 microseconds\")\n",
    "plt.ylabel(\"Ratio of Pb206 to U238\")"
   ]
  },
  {
   "cell_type": "markdown",
   "id": "81780423",
   "metadata": {},
   "source": [
    "As can be seen, the ratio of Th230 takes about $10^{15}$ time steps to rise from 0. The ratio then rises until the lifetime of Th230 is reached and it starts decaying. Since the lifetimes of Th230 and U234 are comparable, the ratio then becomes constant."
   ]
  },
  {
   "cell_type": "code",
   "execution_count": 86,
   "id": "7989ba9c",
   "metadata": {},
   "outputs": [
    {
     "data": {
      "text/plain": [
       "Text(0, 0.5, 'Ratio of Th230 to U234')"
      ]
     },
     "execution_count": 86,
     "metadata": {},
     "output_type": "execute_result"
    },
    {
     "data": {
      "image/png": "[encoded data removed]",
      "text/plain": [
       "<Figure size 432x288 with 1 Axes>"
      ]
     },
     "metadata": {
      "needs_background": "light"
     },
     "output_type": "display_data"
    }
   ],
   "source": [
    "th230 = ans_stiff.y[4]\n",
    "u234 = ans_stiff.y[3]\n",
    "t = ans_stiff.t\n",
    "t_interesting = []\n",
    "ratio_interesting = []\n",
    "for i in range(len(t)):\n",
    "    if t[i] > 10**12 and np.isfinite(th230[i]/u234[i]):\n",
    "        t_interesting.append(t[i])\n",
    "        ratio_interesting.append(th230[i]/u234[i])\n",
    "plt.plot(t_interesting, ratio_interesting)\n",
    "plt.xscale(\"log\")\n",
    "plt.xlabel(\"Time in units of 164.3 microseconds\")\n",
    "plt.ylabel(\"Ratio of Th230 to U234\")"
   ]
  },
  {
   "cell_type": "markdown",
   "id": "49391ae0",
   "metadata": {},
   "source": [
    "# Q3"
   ]
  },
  {
   "cell_type": "code",
   "execution_count": 87,
   "id": "30da6758",
   "metadata": {},
   "outputs": [],
   "source": [
    "import pandas as pd"
   ]
  },
  {
   "cell_type": "markdown",
   "id": "989c627c",
   "metadata": {},
   "source": [
    "## a"
   ]
  },
  {
   "cell_type": "markdown",
   "id": "7eab10fb",
   "metadata": {},
   "source": [
    "We have $z - z_0 = a((x - x_0)^2 + (y - y_0)^2)$. We can rewrite this as $z = z_0 + a(x_0^2 + y_0^2)  + ax^2 + ay^2 -2ax_0x -2ay_0y$, so the new parameters are $z_0 + a(x_0^2 + y_0^2)$, a, a, $-2ax_0$, $-2ay_0$. The ith row in the A matrix will then be [1 $x_i^2$ $y_i^2$ $x_i$ $y_i$]"
   ]
  },
  {
   "cell_type": "markdown",
   "id": "57e3d4ea",
   "metadata": {},
   "source": [
    "### b"
   ]
  },
  {
   "cell_type": "code",
   "execution_count": 88,
   "id": "6676daf0",
   "metadata": {},
   "outputs": [],
   "source": [
    "df = pd.read_csv(\"dish_zenith.txt\", sep=\" \", header=None)\n",
    "x = df.iloc[:, 0].values\n",
    "y = df.iloc[:, 1].values\n",
    "z = df.iloc[:, 2].values"
   ]
  },
  {
   "cell_type": "code",
   "execution_count": 89,
   "id": "cf5abdec",
   "metadata": {},
   "outputs": [
    {
     "name": "stdout",
     "output_type": "stream",
     "text": [
      "The fit paramters are : [-1.51232196e+03  1.66372555e-04  1.67010732e-04  4.33315842e-04\n",
      " -1.94065471e-02]\n"
     ]
    }
   ],
   "source": [
    "ndata = len(x)\n",
    "A=np.empty([ndata,5])\n",
    "A[:, 0] = 1\n",
    "A[:, 1] = x**2\n",
    "A[:, 2] = y**2\n",
    "A[:, 3] = x\n",
    "A[:, 4] = y\n",
    "lhs=A.T@A\n",
    "rhs=A.T@z\n",
    "m=np.linalg.inv(lhs)@rhs\n",
    "pred=A@m\n",
    "print(\"The fit paramters are : {}\".format(m))"
   ]
  },
  {
   "cell_type": "markdown",
   "id": "58f08294",
   "metadata": {},
   "source": [
    "### c"
   ]
  },
  {
   "cell_type": "code",
   "execution_count": 90,
   "id": "f38e6f7a",
   "metadata": {},
   "outputs": [
    {
     "name": "stdout",
     "output_type": "stream",
     "text": [
      "Noise in the a is 7.869757218549181e-08\n"
     ]
    }
   ],
   "source": [
    "N=np.mean((z-pred)**2) #noise in data\n",
    "par_errs=np.sqrt(N*np.diag(np.linalg.inv(lhs))) #noise in model parameters\n",
    "print(\"Noise in the a is {}\".format(par_errs[1]))"
   ]
  },
  {
   "cell_type": "markdown",
   "id": "fefc674f",
   "metadata": {},
   "source": [
    "Focal length is 1/4a. Using the propogation of uncertainty rules, the error in focal length = (error in a)/($4a^2$)"
   ]
  },
  {
   "cell_type": "code",
   "execution_count": 91,
   "id": "9951b08c",
   "metadata": {},
   "outputs": [
    {
     "name": "stdout",
     "output_type": "stream",
     "text": [
      "The focal length is 1502.6516827206915 +- 0.710784535000448 mm\n"
     ]
    }
   ],
   "source": [
    "#1/4f = a\n",
    "a = m[1]\n",
    "f = 1/(4*a)\n",
    "err_a = par_errs[1]\n",
    "err_f = err_a/(4*a**2)\n",
    "print(\"The focal length is {} +- {} mm\".format(f, err_f))"
   ]
  },
  {
   "cell_type": "code",
   "execution_count": null,
   "id": "8a7d24d3",
   "metadata": {},
   "outputs": [],
   "source": []
  }
 ],
 "metadata": {
  "kernelspec": {
   "display_name": "Python 3",
   "language": "python",
   "name": "python3"
  },
  "language_info": {
   "codemirror_mode": {
    "name": "ipython",
    "version": 3
   },
   "file_extension": ".py",
   "mimetype": "text/x-python",
   "name": "python",
   "nbconvert_exporter": "python",
   "pygments_lexer": "ipython3",
   "version": "3.6.9"
  }
 },
 "nbformat": 4,
 "nbformat_minor": 5
}
