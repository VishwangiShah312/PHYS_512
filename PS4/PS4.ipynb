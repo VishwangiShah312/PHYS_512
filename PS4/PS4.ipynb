{
 "cells": [
  {
   "cell_type": "code",
   "execution_count": 246,
   "id": "afa0510b",
   "metadata": {},
   "outputs": [],
   "source": [
    "import numpy as np\n",
    "import matplotlib.pyplot as plt"
   ]
  },
  {
   "cell_type": "markdown",
   "id": "9fb77827",
   "metadata": {},
   "source": [
    "Reading in and plotting the data"
   ]
  },
  {
   "cell_type": "code",
   "execution_count": 247,
   "id": "0b78b90a",
   "metadata": {},
   "outputs": [
    {
     "data": {
      "text/plain": [
       "Text(0, 0.5, 'd')"
      ]
     },
     "execution_count": 247,
     "metadata": {},
     "output_type": "execute_result"
    },
    {
     "data": {
      "image/png": "[encoded data removed]",
      "text/plain": [
       "<Figure size 432x288 with 1 Axes>"
      ]
     },
     "metadata": {
      "needs_background": "light"
     },
     "output_type": "display_data"
    }
   ],
   "source": [
    "stuff=np.load('sidebands.npz')\n",
    "t=stuff['time']\n",
    "d=stuff['signal']\n",
    "plt.plot(t,d)\n",
    "plt.xscale('log')\n",
    "plt.xlabel('t')\n",
    "plt.ylabel('d')"
   ]
  },
  {
   "cell_type": "markdown",
   "id": "165dadcb",
   "metadata": {},
   "source": [
    "## a)"
   ]
  },
  {
   "cell_type": "markdown",
   "id": "4dd83573",
   "metadata": {},
   "source": [
    "From the plot, guessing the initial parameters as: t0 = 2x10$^{-4}$, a = 1.4, w = 2x10$^{-4}$"
   ]
  },
  {
   "cell_type": "markdown",
   "id": "6bf12c4c",
   "metadata": {},
   "source": [
    "Function to give the predicted data based on the guess of the parameters and also return A'. The array p conatins the parameters in the order [a, t0, w]"
   ]
  },
  {
   "cell_type": "code",
   "execution_count": 248,
   "id": "377e8167",
   "metadata": {},
   "outputs": [],
   "source": [
    "def calc_lorentz(p,t):\n",
    "    y=p[0]/(1+(t-p[1])**2/p[2]**2)\n",
    "    grad=np.zeros([t.size,p.size])\n",
    "    #now partial differentiate w.r.t. all the parameters\n",
    "    grad[:,0]=1.0/(1+(t-p[1])**2/p[2]**2)\n",
    "    grad[:,1]=(2*p[0]*(t-p[1]))/((1+(t-p[1])**2/p[2]**2)**2*p[2]**2)\n",
    "    grad[:,2]=(2*p[0]*(t-p[1])**2)/((1+(t-p[1])**2/p[2]**2)**2*p[2]**3)\n",
    "    return y,grad"
   ]
  },
  {
   "cell_type": "markdown",
   "id": "ad0311bc",
   "metadata": {},
   "source": [
    "Starting with an initial guess of the parmeters. The function calc_lorentz returns the predicted data based on p, and the matrix A'. Then as derived in class $\\delta\\chi^2$ = $-2A'^TN^{-1}r$, but I am considering $N^{-1}$ to be I. Since we want $\\delta\\chi^2$ to be 0, I set the convergence criteria so that the loop will run until $\\delta\\chi^2$ is greater than $10^{-3}$. As we derived in class, the step dp will be $(A'^TA')^{-1}(A'^Tr)$"
   ]
  },
  {
   "cell_type": "code",
   "execution_count": 249,
   "id": "38fe87a5",
   "metadata": {},
   "outputs": [
    {
     "name": "stdout",
     "output_type": "stream",
     "text": [
      "Best-fit parameters for amplitude = 1.4228106806321144, center = 0.00019235864937565183, width = -1.792369079401583e-05\n"
     ]
    },
    {
     "data": {
      "text/plain": [
       "Text(0, 0.5, 'd')"
      ]
     },
     "execution_count": 249,
     "metadata": {},
     "output_type": "execute_result"
    },
    {
     "data": {
      "image/png": "[encoded data removed]",
      "text/plain": [
       "<Figure size 432x288 with 1 Axes>"
      ]
     },
     "metadata": {
      "needs_background": "light"
     },
     "output_type": "display_data"
    }
   ],
   "source": [
    "p0=np.array([1.4, 2*pow(10,-4), 2*pow(10,-4)]) \n",
    "\n",
    "p=p0.copy()\n",
    "flag = True\n",
    "while flag:\n",
    "    pred,grad=calc_lorentz(p,t)\n",
    "    r=d-pred\n",
    "    r=np.matrix(r).transpose()\n",
    "    grad=np.matrix(grad)\n",
    "    delta_chi2 = np.array(-2*grad.transpose()*r)\n",
    "    flag = False\n",
    "    for i in range(len(delta_chi2)):\n",
    "        if abs(delta_chi2[i][0]) > pow(10,-3):\n",
    "            flag = True\n",
    "            break\n",
    "    if flag == True:\n",
    "        lhs=grad.transpose()*grad\n",
    "        rhs=grad.transpose()*r\n",
    "        dp=np.linalg.inv(lhs)*(rhs)\n",
    "        for jj in range(p.size):\n",
    "            p[jj]=p[jj]+dp[jj]\n",
    "print(\"Best-fit parameters for amplitude = {}, center = {}, width = {}\".format(p[0], p[1], p[2]))\n",
    "plt.plot(t,pred,label=\"pred\")\n",
    "plt.plot(t,d,label=\"true\")\n",
    "plt.legend()\n",
    "plt.xscale('log')\n",
    "plt.xlabel(\"t\")\n",
    "plt.ylabel(\"d\")\n",
    "plt.xlabel(\"t\")\n",
    "plt.ylabel(\"d\")"
   ]
  },
  {
   "cell_type": "markdown",
   "id": "43267bcc",
   "metadata": {},
   "source": [
    "## b)"
   ]
  },
  {
   "cell_type": "markdown",
   "id": "156e886d",
   "metadata": {},
   "source": [
    "Estimating the noise (or variance) to be the mean of the residual squared. Then, the error in the parameters would be the square root of the diagonal elemets of the covariance matrix $(A'^TN^{-1}A')^{-1}$. "
   ]
  },
  {
   "cell_type": "code",
   "execution_count": 250,
   "id": "a88cffa8",
   "metadata": {},
   "outputs": [
    {
     "name": "stdout",
     "output_type": "stream",
     "text": [
      "Best-fit parameter error for amplitude = 0.00042547904587075835, center = 5.358345563332885e-09, width = 7.588097244743478e-09\n"
     ]
    }
   ],
   "source": [
    "A = np.zeros([len(t)])\n",
    "A = p[0]/(1+(t-p[1])**2/p[2]**2)\n",
    "N=np.mean((d-pred)**2)\n",
    "par_errs=np.sqrt(N*np.diag(np.linalg.inv(lhs)))\n",
    "print(\"Best-fit parameter error for amplitude = {}, center = {}, width = {}\".format(par_errs[0], par_errs[1], par_errs[2]))"
   ]
  },
  {
   "cell_type": "markdown",
   "id": "96a7fc88",
   "metadata": {},
   "source": [
    "## c)"
   ]
  },
  {
   "cell_type": "markdown",
   "id": "5f6aa125",
   "metadata": {},
   "source": [
    "Function to return partial derivative wrt the parameters. I am taking the dx in the partial derivative to be the value of the model parameter divided by 100. "
   ]
  },
  {
   "cell_type": "code",
   "execution_count": 251,
   "id": "5a6ae475",
   "metadata": {},
   "outputs": [],
   "source": [
    "def part_diff(fun, pars, t):\n",
    "    pred = fun(pars, t)\n",
    "    grad = np.zeros([t.size, pars.size])\n",
    "    for i in range(len(pars)):\n",
    "        pars_temp1 = pars.copy()\n",
    "        pars_temp2 = pars.copy()\n",
    "        h = pars[i]/pow(10, 2)\n",
    "        #print(h)\n",
    "        pars_temp1[i] = pars_temp1[i] + h\n",
    "        pars_temp2[i] = pars_temp2[i] - h\n",
    "        #print(pars_temp1, pars_temp2)\n",
    "        grad[:,i] = (fun(pars_temp1, t) - fun(pars_temp2, t))/(2*h)\n",
    "    return pred, grad"
   ]
  },
  {
   "cell_type": "markdown",
   "id": "4249b3e0",
   "metadata": {},
   "source": [
    "Function which returns the Lorentzian"
   ]
  },
  {
   "cell_type": "code",
   "execution_count": 252,
   "id": "31fca23b",
   "metadata": {},
   "outputs": [],
   "source": [
    "def fun(p, t):\n",
    "    y = p[0]/(1+(t-p[1])**2/p[2]**2)\n",
    "    return np.array(y)"
   ]
  },
  {
   "cell_type": "markdown",
   "id": "803d42ea",
   "metadata": {},
   "source": [
    "Plotting the predicted data from the initial guess of the parameters"
   ]
  },
  {
   "cell_type": "code",
   "execution_count": 253,
   "id": "ecb17ec4",
   "metadata": {},
   "outputs": [
    {
     "data": {
      "text/plain": [
       "Text(0, 0.5, 'd')"
      ]
     },
     "execution_count": 253,
     "metadata": {},
     "output_type": "execute_result"
    },
    {
     "data": {
      "image/png": "[encoded data removed]",
      "text/plain": [
       "<Figure size 432x288 with 1 Axes>"
      ]
     },
     "metadata": {
      "needs_background": "light"
     },
     "output_type": "display_data"
    }
   ],
   "source": [
    "p0 = np.array([1.4, 2*pow(10,-4), 2*pow(10,-4)])\n",
    "pred, grad = part_diff(fun, p0, t)\n",
    "plt.plot(t, pred, label = \"pred\")\n",
    "plt.plot(t, d, label = \"real\")\n",
    "plt.legend()\n",
    "plt.xscale(\"log\")\n",
    "plt.xlabel(\"t\")\n",
    "plt.ylabel(\"d\")"
   ]
  },
  {
   "cell_type": "markdown",
   "id": "1bfb628c",
   "metadata": {},
   "source": [
    "Doing the same thing as in a) but with the numerical partial derivative function. "
   ]
  },
  {
   "cell_type": "code",
   "execution_count": 254,
   "id": "f62819b2",
   "metadata": {},
   "outputs": [
    {
     "name": "stdout",
     "output_type": "stream",
     "text": [
      "Best-fit parameters for amplitude = 1.4228001045462348, center = 0.000192354414007016, width = -1.7923957040798062e-05\n"
     ]
    },
    {
     "data": {
      "image/png": "[encoded data removed]",
      "text/plain": [
       "<Figure size 432x288 with 1 Axes>"
      ]
     },
     "metadata": {
      "needs_background": "light"
     },
     "output_type": "display_data"
    }
   ],
   "source": [
    "p0 = np.array([1.4, 2*pow(10,-4), 2*pow(10,-4)])\n",
    "p=p0.copy()\n",
    "flag = True\n",
    "while flag:\n",
    "    #pred = fun(p, t)\n",
    "    pred, grad = part_diff(fun, p, t)\n",
    "    r=d-pred\n",
    "    r=np.matrix(r).transpose()\n",
    "    grad=np.matrix(grad)\n",
    "    delta_chi2 = np.array(-2*grad.transpose()*r)\n",
    "    flag = False\n",
    "    for i in range(len(delta_chi2)):\n",
    "        if abs(delta_chi2[i][0]) > pow(10,-3):\n",
    "            flag = True\n",
    "            break\n",
    "    if flag == True:\n",
    "        lhs=grad.transpose()*grad\n",
    "        rhs=grad.transpose()*r\n",
    "        dp=np.linalg.pinv(lhs)*(rhs)\n",
    "        for jj in range(p.size):\n",
    "            p[jj]=p[jj]+dp[jj]\n",
    "plt.plot(t,pred,label=\"pred\")\n",
    "plt.plot(t,d,label=\"true\")\n",
    "plt.legend()\n",
    "plt.xscale('log')\n",
    "plt.xlabel(\"t\")\n",
    "plt.ylabel(\"d\")\n",
    "print(\"Best-fit parameters for amplitude = {}, center = {}, width = {}\".format(p[0], p[1], p[2]))"
   ]
  },
  {
   "cell_type": "code",
   "execution_count": 255,
   "id": "4a92a658",
   "metadata": {},
   "outputs": [
    {
     "name": "stdout",
     "output_type": "stream",
     "text": [
      "Best-fit parameter error for amplitude = 0.00042548791051056197, center = 5.389210767860868e-09, width = 7.588424876129845e-09\n"
     ]
    }
   ],
   "source": [
    "N=np.mean((d-pred)**2)\n",
    "par_errs=np.sqrt(N*np.diag(np.linalg.inv(lhs)))\n",
    "print(\"Best-fit parameter error for amplitude = {}, center = {}, width = {}\".format(par_errs[0], par_errs[1], par_errs[2]))"
   ]
  },
  {
   "cell_type": "markdown",
   "id": "609f614d",
   "metadata": {},
   "source": [
    "The best-fit parameters are not statistically significantly different from my answers in a)"
   ]
  },
  {
   "cell_type": "markdown",
   "id": "3cab5bff",
   "metadata": {},
   "source": [
    "## d)"
   ]
  },
  {
   "cell_type": "markdown",
   "id": "3cadfb7b",
   "metadata": {},
   "source": [
    "Defining the new model function with the array p having the parameters in the order [a, b, c, t0, dt, w] and doing the same thing as in c)"
   ]
  },
  {
   "cell_type": "code",
   "execution_count": 256,
   "id": "97a0ebac",
   "metadata": {},
   "outputs": [],
   "source": [
    "# p = [a, b, c, t0, dt, w]\n",
    "def fun2(p, t):\n",
    "    y = p[0]/(1+(t-p[3])**2/p[5]**2) + p[1]/(1+(t-p[3]+p[4])**2/p[5]**2) + p[2]/(1+(t-p[3]-p[4])**2/p[5]**2)\n",
    "    return np.array(y)"
   ]
  },
  {
   "cell_type": "markdown",
   "id": "3aa7b48a",
   "metadata": {},
   "source": [
    "For the initial parameters, using the best-fit values for a, t0 and w"
   ]
  },
  {
   "cell_type": "code",
   "execution_count": 257,
   "id": "1963b73c",
   "metadata": {},
   "outputs": [
    {
     "name": "stdout",
     "output_type": "stream",
     "text": [
      "Best-fit parameters for a = 1.4429874309196413, b = 0.10382365393961594, c = 0.06478930144874528, t0 = 0.0001925742772637443, dt = 4.457048006014769e-05, w = -1.6065574718923747e-05\n"
     ]
    },
    {
     "data": {
      "image/png": "[encoded data removed]",
      "text/plain": [
       "<Figure size 432x288 with 1 Axes>"
      ]
     },
     "metadata": {
      "needs_background": "light"
     },
     "output_type": "display_data"
    }
   ],
   "source": [
    "p0 = np.array([1.42281068e+00, 0.3, 0.3, 1.92358649e-04, 0.5*pow(10, -4), -1.79236908e-05])\n",
    "p=p0.copy()\n",
    "flag = True\n",
    "while flag:\n",
    "    #pred = fun(p, t)\n",
    "    pred, grad = part_diff(fun2, p, t)\n",
    "    r=d-pred\n",
    "    r=np.matrix(r).transpose()\n",
    "    grad=np.matrix(grad)\n",
    "    delta_chi2 = np.array(-2*grad.transpose()*r)\n",
    "    flag = False\n",
    "    for i in range(len(delta_chi2)):\n",
    "        if abs(delta_chi2[i][0]) > pow(10,-3):\n",
    "            flag = True\n",
    "            break\n",
    "    if flag == True:\n",
    "        lhs=grad.transpose()*grad\n",
    "        rhs=grad.transpose()*r\n",
    "        dp=np.linalg.pinv(lhs)*(rhs)\n",
    "        for jj in range(p.size):\n",
    "            p[jj]=p[jj]+dp[jj]\n",
    "plt.plot(t,pred,label=\"pred\")\n",
    "plt.plot(t,d,label=\"true\")\n",
    "plt.legend()\n",
    "plt.xscale('log')\n",
    "plt.xlabel(\"t\")\n",
    "plt.ylabel(\"d\")\n",
    "print(\"Best-fit parameters for a = {}, b = {}, c = {}, t0 = {}, dt = {}, w = {}\".format(p[0], p[1], p[2], p[3], p[4], p[5]))"
   ]
  },
  {
   "cell_type": "code",
   "execution_count": 258,
   "id": "d6de0300",
   "metadata": {},
   "outputs": [
    {
     "name": "stdout",
     "output_type": "stream",
     "text": [
      "Best-fit parameter errors for a = 0.0002664341483535688, b = 0.0002542262998720864, c = 0.0002489206549916085, t0 = 3.1820022608659255e-09, dt = 3.8060597997087904e-08, w = 5.649755024223123e-09\n"
     ]
    }
   ],
   "source": [
    "N=np.mean((d-pred)**2)\n",
    "par_errs=np.sqrt(N*np.diag(np.linalg.inv(lhs)))\n",
    "print(\"Best-fit parameter errors for a = {}, b = {}, c = {}, t0 = {}, dt = {}, w = {}\".format(par_errs[0], par_errs[1], par_errs[2], par_errs[3], par_errs[4], par_errs[5]))"
   ]
  },
  {
   "cell_type": "markdown",
   "id": "2b3efcc0",
   "metadata": {},
   "source": [
    "## e)"
   ]
  },
  {
   "cell_type": "code",
   "execution_count": 259,
   "id": "070f636a",
   "metadata": {},
   "outputs": [
    {
     "data": {
      "text/plain": [
       "Text(0.5, 0, '')"
      ]
     },
     "execution_count": 259,
     "metadata": {},
     "output_type": "execute_result"
    },
    {
     "data": {
      "image/png": "[encoded data removed]",
      "text/plain": [
       "<Figure size 432x288 with 1 Axes>"
      ]
     },
     "metadata": {
      "needs_background": "light"
     },
     "output_type": "display_data"
    }
   ],
   "source": [
    "plt.plot(t, d-pred, label=\"residuals\")\n",
    "plt.legend()\n",
    "plt.xlabel(\"\")"
   ]
  },
  {
   "cell_type": "markdown",
   "id": "8b26550a",
   "metadata": {},
   "source": [
    "As can be seen, there is structure in the residuals similar to the shape of the data. This means that the model doesn't fully describe the data. Also, since the residuals are not randomly distributed, we cannot say that the data are independent with uniform variance"
   ]
  },
  {
   "cell_type": "markdown",
   "id": "d9d8c678",
   "metadata": {},
   "source": [
    "## f)"
   ]
  },
  {
   "cell_type": "markdown",
   "id": "f4b83d6c",
   "metadata": {},
   "source": [
    "Getting the full covariance matrix for the error in parameters. "
   ]
  },
  {
   "cell_type": "code",
   "execution_count": 260,
   "id": "3ad3bfbf",
   "metadata": {},
   "outputs": [],
   "source": [
    "N=np.mean((d-pred)**2)\n",
    "cov=N*(np.linalg.inv(lhs))"
   ]
  },
  {
   "cell_type": "code",
   "execution_count": 261,
   "id": "76cc16f7",
   "metadata": {},
   "outputs": [
    {
     "name": "stdout",
     "output_type": "stream",
     "text": [
      "Best-fit chi2 is 21.24764880700172\n",
      "Difference between chi2 of perturbed parameters and best fit parameters is -0.0008390271231029089\n",
      "Difference between chi2 of perturbed parameters and best fit parameters is -0.0004614266868046002\n",
      "Difference between chi2 of perturbed parameters and best fit parameters is -0.0012930806570068398\n",
      "Difference between chi2 of perturbed parameters and best fit parameters is -0.0004808083884810799\n",
      "Difference between chi2 of perturbed parameters and best fit parameters is -0.0010911768097656704\n",
      "Difference between chi2 of perturbed parameters and best fit parameters is -0.0018797208579890423\n",
      "Difference between chi2 of perturbed parameters and best fit parameters is -0.0021407538847029173\n",
      "Difference between chi2 of perturbed parameters and best fit parameters is -0.001960489806219101\n",
      "Difference between chi2 of perturbed parameters and best fit parameters is -0.002272234317558741\n",
      "Difference between chi2 of perturbed parameters and best fit parameters is -0.00029088821681000354\n"
     ]
    },
    {
     "data": {
      "text/plain": [
       "Text(0, 0.5, 'd')"
      ]
     },
     "execution_count": 261,
     "metadata": {},
     "output_type": "execute_result"
    },
    {
     "data": {
      "image/png": "[encoded data removed]",
      "text/plain": [
       "<Figure size 432x288 with 1 Axes>"
      ]
     },
     "metadata": {
      "needs_background": "light"
     },
     "output_type": "display_data"
    }
   ],
   "source": [
    "bestfit_chi2 = np.sum((d - fun2(p,t))**2)\n",
    "print(\"Best-fit chi2 is {}\".format(bestfit_chi2))\n",
    "for i in range(10):\n",
    "    p_new = np.random.multivariate_normal(p, cov)\n",
    "    pred_new = fun2(p_new, t)\n",
    "    plt.plot(t, pred_new, label=str(i)+\" trial\")\n",
    "    chi2 = np.sum((d-pred_new)**2)\n",
    "    print(\"Difference between chi2 of perturbed parameters and best fit parameters is {}\".format(bestfit_chi2 - chi2))\n",
    "plt.plot(t, fun2(p, t), label=\"Best-fit\")\n",
    "plt.legend()\n",
    "plt.xscale(\"log\")\n",
    "plt.xlabel(\"t\")\n",
    "plt.ylabel(\"d\")"
   ]
  },
  {
   "cell_type": "markdown",
   "id": "564ac869",
   "metadata": {},
   "source": [
    "As can be seen, the $\\chi^2_{best-fit}$ - $\\chi^2_{perturbed}$ is -ve for all the iterations. This makes sense as we want our best-fit parameters to have as less of a $\\chi^2$ as possible."
   ]
  },
  {
   "cell_type": "markdown",
   "id": "2b8d0de4",
   "metadata": {},
   "source": [
    "## g)"
   ]
  },
  {
   "cell_type": "markdown",
   "id": "61e2c3a6",
   "metadata": {},
   "source": [
    "Function which returns the $\\chi^2$ (considering noise matrix N to to I)"
   ]
  },
  {
   "cell_type": "code",
   "execution_count": 264,
   "id": "f4ee24c4",
   "metadata": {},
   "outputs": [],
   "source": [
    "def get_chi2(p, data):\n",
    "    x=data['x']\n",
    "    y=data['y']\n",
    "\n",
    "    pred=fun2(p,x)\n",
    "    chisq=np.sum((pred-y)**2)\n",
    "    return chisq"
   ]
  },
  {
   "cell_type": "markdown",
   "id": "104f3f66",
   "metadata": {},
   "source": [
    "Function which gives the offset in the parameters (dp) from a normal distribution having the varaiance as the covariance matrix of the error in model parameters. Multiplying this offset by 0.5 to have the convergence faster."
   ]
  },
  {
   "cell_type": "code",
   "execution_count": 265,
   "id": "ed9cbd36",
   "metadata": {},
   "outputs": [],
   "source": [
    "def get_step(p, cov):\n",
    "    mean = np.zeros([len(p)])\n",
    "    dp = np.random.multivariate_normal(mean, cov)*0.5\n",
    "    return dp"
   ]
  },
  {
   "cell_type": "markdown",
   "id": "469d0474",
   "metadata": {},
   "source": [
    "The MCMC chain which startes with the best-fit parameters I got from d. Then, it adds an offset dp to p and calculates the $\\chi^2$ for the new p. The probability of acceptance of the new p is higher is the new $\\chi^2$ is lower. The p and $\\chi^2$ for each step is saved. "
   ]
  },
  {
   "cell_type": "code",
   "execution_count": 266,
   "id": "6c5e5737",
   "metadata": {},
   "outputs": [],
   "source": [
    "def run_chain(fun,pars,cov,data,nstep=40000,T=1):\n",
    "    npar=len(pars)\n",
    "    chain=np.zeros([nstep,npar])\n",
    "    chisq=np.zeros(nstep)\n",
    "    chain[0,:]=pars\n",
    "    chi_cur=fun(pars,data)\n",
    "    chisq[0]=chi_cur\n",
    "    for i in range(1,nstep):\n",
    "        pp=pars+get_step(pars, cov)\n",
    "        new_chisq=fun(pp,data)\n",
    "        accept_prob=np.exp(-0.5*(new_chisq-chi_cur)/T)\n",
    "        if np.random.rand(1)<accept_prob:\n",
    "            pars=pp\n",
    "            chi_cur=new_chisq\n",
    "        chain[i,:]=pars\n",
    "        chisq[i]=chi_cur\n",
    "    return chain,chisq"
   ]
  },
  {
   "cell_type": "markdown",
   "id": "74cef610",
   "metadata": {},
   "source": [
    "With the p and $\\chi^2$ saved for all the steps, the final p would be the weighted avg of the p for all steps. The weight is the difference between the $\\chi^2$ of a step from the minimum $\\chi^2$. The p with less difference (and hence less $\\chi^2$) has more weight. Similarly, the variance in p is calculated. (Here I am taking T=1, so the weight for all the steps is same)"
   ]
  },
  {
   "cell_type": "code",
   "execution_count": 267,
   "id": "df996bf4",
   "metadata": {},
   "outputs": [],
   "source": [
    "def process_chain(chain,chisq,T=1.0):\n",
    "    dchi=chisq-np.min(chisq)\n",
    "    wt=np.exp(-0.5*dchi*(1-1/T)) \n",
    "    npar=chain.shape[1]\n",
    "    tot=np.zeros(npar)\n",
    "    totsqr=np.zeros(npar)\n",
    "    for i in range(npar):\n",
    "        tot[i]=np.sum(wt*chain[:,i])\n",
    "        totsqr[i]=np.sum(wt*chain[:,i]**2)\n",
    "    #divide by sum or weights\n",
    "    mean=tot/np.sum(wt)\n",
    "    meansqr=totsqr/np.sum(wt)\n",
    "\n",
    "    #variance is <x^2>-<x>^2\n",
    "    var=meansqr-mean**2\n",
    "    return mean,np.sqrt(var),wt"
   ]
  },
  {
   "cell_type": "code",
   "execution_count": 268,
   "id": "bf35b4d3",
   "metadata": {},
   "outputs": [],
   "source": [
    "data={}\n",
    "data['x']=t\n",
    "data['y']=d\n",
    "chain,chivec=run_chain(get_chi2,p,cov,data)\n",
    "\n",
    "mean,errs,wts=process_chain(chain,chivec)"
   ]
  },
  {
   "cell_type": "code",
   "execution_count": 269,
   "id": "a9ba10d0",
   "metadata": {},
   "outputs": [
    {
     "data": {
      "text/plain": [
       "Text(0.5, 1.0, 'Variation in the parameter a with the MCMC steps')"
      ]
     },
     "execution_count": 269,
     "metadata": {},
     "output_type": "execute_result"
    },
    {
     "data": {
      "image/png": "[encoded data removed]",
      "text/plain": [
       "<Figure size 432x288 with 1 Axes>"
      ]
     },
     "metadata": {
      "needs_background": "light"
     },
     "output_type": "display_data"
    }
   ],
   "source": [
    "steps = 1 + np.arange(40000)\n",
    "plt.plot(steps, chain[:,0])\n",
    "plt.xlabel(\"steps\")\n",
    "plt.ylabel(\"a\")\n",
    "plt.title(\"Variation in the parameter a with the MCMC steps\")"
   ]
  },
  {
   "cell_type": "code",
   "execution_count": 270,
   "id": "5eebc07a",
   "metadata": {},
   "outputs": [
    {
     "name": "stdout",
     "output_type": "stream",
     "text": [
      "Best-fit parameters for a = 1.4358313039601938, b = 0.10437690803596947, c = 0.04999674907790118, t0 = 0.00019273171650887786, dt = 4.721992715952323e-05, w = -1.6210301457627292e-05\n"
     ]
    }
   ],
   "source": [
    "print(\"Best-fit parameters for a = {}, b = {}, c = {}, t0 = {}, dt = {}, w = {}\".format(mean[0], mean[1], mean[2], mean[3], mean[4], mean[5]))\n",
    "#print(\"Best-fit parameter errors for a = {}, b = {}, c = {}, t0 = {}, dt = {}, w = {}\".format(errs[0], errs[1], errs[2], errs[3], errs[4], errs[5]))"
   ]
  },
  {
   "cell_type": "code",
   "execution_count": 271,
   "id": "854d82cf",
   "metadata": {},
   "outputs": [
    {
     "name": "stdout",
     "output_type": "stream",
     "text": [
      "Best-fit parameter errors for a = 0.0002815938609723725, b = 0.0002586869177527817, c = 0.00025196544845925204, t0 = 3.371114798420097e-09, dt = 4.2263460452428594e-08, w = 5.838623018827503e-09\n"
     ]
    }
   ],
   "source": [
    "pred, grad = part_diff(fun2, mean, t)\n",
    "N=np.mean((d-pred)**2)\n",
    "grad = np.matrix(grad)\n",
    "lhs = grad.transpose()*grad\n",
    "par_errs=np.sqrt(N*np.diag(np.linalg.inv(lhs)))\n",
    "print(\"Best-fit parameter errors for a = {}, b = {}, c = {}, t0 = {}, dt = {}, w = {}\".format(par_errs[0], par_errs[1], par_errs[2], par_errs[3], par_errs[4], par_errs[5]))"
   ]
  },
  {
   "cell_type": "markdown",
   "id": "e82107d3",
   "metadata": {},
   "source": [
    "The errors in the parameters are the same order as before"
   ]
  },
  {
   "cell_type": "code",
   "execution_count": 272,
   "id": "d0a54bb0",
   "metadata": {},
   "outputs": [
    {
     "data": {
      "text/plain": [
       "Text(0, 0.5, 'd')"
      ]
     },
     "execution_count": 272,
     "metadata": {},
     "output_type": "execute_result"
    },
    {
     "data": {
      "image/png": "[encoded data removed]",
      "text/plain": [
       "<Figure size 432x288 with 1 Axes>"
      ]
     },
     "metadata": {
      "needs_background": "light"
     },
     "output_type": "display_data"
    }
   ],
   "source": [
    "plt.plot(t, pred, label=\"pred\")\n",
    "plt.plot(t, d, label=\"real\")\n",
    "plt.legend()\n",
    "plt.xscale(\"log\")\n",
    "plt.xlabel(\"t\")\n",
    "plt.ylabel(\"d\")"
   ]
  },
  {
   "cell_type": "markdown",
   "id": "3d0dd4ee",
   "metadata": {},
   "source": [
    "## h)"
   ]
  },
  {
   "cell_type": "markdown",
   "id": "a6b0b58d",
   "metadata": {},
   "source": [
    "Since dt corresponds to 9 GHz, scaling w accordingly to get the width in GHz"
   ]
  },
  {
   "cell_type": "code",
   "execution_count": 273,
   "id": "01c91527",
   "metadata": {},
   "outputs": [
    {
     "name": "stdout",
     "output_type": "stream",
     "text": [
      "Width of the cavity is 3.0896429091424857 GHz\n"
     ]
    }
   ],
   "source": [
    "dt = mean[4]\n",
    "w = mean[5]\n",
    "width_cavity = np.abs(w)*9/dt\n",
    "print(\"Width of the cavity is {} GHz\".format(width_cavity))"
   ]
  },
  {
   "cell_type": "code",
   "execution_count": null,
   "id": "65d90e1c",
   "metadata": {},
   "outputs": [],
   "source": []
  }
 ],
 "metadata": {
  "kernelspec": {
   "display_name": "Python 3",
   "language": "python",
   "name": "python3"
  },
  "language_info": {
   "codemirror_mode": {
    "name": "ipython",
    "version": 3
   },
   "file_extension": ".py",
   "mimetype": "text/x-python",
   "name": "python",
   "nbconvert_exporter": "python",
   "pygments_lexer": "ipython3",
   "version": "3.6.9"
  }
 },
 "nbformat": 4,
 "nbformat_minor": 5
}
